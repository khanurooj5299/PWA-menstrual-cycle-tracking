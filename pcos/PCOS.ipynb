{
 "cells": [
  {
   "cell_type": "markdown",
   "metadata": {},
   "source": [
    "TO DO :\n",
    "1.Importing dataset (done)\n",
    "2.Data preprocessing :\n",
    "        imputing (done)\n",
    "        normalization  (done)\n",
    "3.Feature selection  (done)\n",
    "4.Train models and check performance of each :\n",
    "        Logistic Regression (done)\n",
    "        SVM    (done)\n",
    "        Random Forest Classifier    (done)\n",
    "5.Saving the model with highest accuracy    (done)\n",
    "6.Loading the model from disk    (done)\n",
    "7.Predict probability for new input point   (done)"
   ]
  },
  {
   "cell_type": "code",
   "execution_count": 3,
   "metadata": {},
   "outputs": [],
   "source": [
    "#1)IMPORTING DATASET\n",
    "import pandas as pd\n",
    "dataFrame = pd.read_excel(r'C:\\Users\\Urooj\\Desktop\\Project material\\data.xlsm',sheet_name='Full_new')\n",
    "dataFrame=dataFrame.drop([\"Sl. No\",\"Patient File No.\"],axis=1)  #removing unneccesary columns"
   ]
  },
  {
   "cell_type": "code",
   "execution_count": 4,
   "metadata": {},
   "outputs": [
    {
     "name": "stdout",
     "output_type": "stream",
     "text": [
      "--------BEFORE IMPUTATION--------\n",
      "PCOS (Y/N)                0\n",
      " Age (yrs)                0\n",
      "Weight (Kg)               0\n",
      "Height(Cm)                0\n",
      "BMI                       0\n",
      "Blood Group               0\n",
      "Pulse rate(bpm)           0\n",
      "RR (breaths/min)          0\n",
      "Hb(g/dl)                  0\n",
      "Cycle(R/I)                0\n",
      "Cycle length(days)        0\n",
      "Marraige Status (Yrs)     1\n",
      "Pregnant(Y/N)             0\n",
      "No. of aborptions         0\n",
      "  I   beta-HCG(mIU/mL)    0\n",
      "II    beta-HCG(mIU/mL)    0\n",
      "FSH(mIU/mL)               0\n",
      "LH(mIU/mL)                0\n",
      "FSH/LH                    0\n",
      "Hip(inch)                 0\n",
      "Waist(inch)               0\n",
      "Waist:Hip Ratio           0\n",
      "TSH (mIU/L)               0\n",
      "AMH(ng/mL)                1\n",
      "PRL(ng/mL)                0\n",
      "Vit D3 (ng/mL)            0\n",
      "PRG(ng/mL)                0\n",
      "RBS(mg/dl)                0\n",
      "Weight gain(Y/N)          0\n",
      "hair growth(Y/N)          0\n",
      "Skin darkening (Y/N)      0\n",
      "Hair loss(Y/N)            0\n",
      "Pimples(Y/N)              0\n",
      "Fast food (Y/N)           1\n",
      "Reg.Exercise(Y/N)         0\n",
      "BP _Systolic (mmHg)       0\n",
      "BP _Diastolic (mmHg)      0\n",
      "Follicle No. (L)          0\n",
      "Follicle No. (R)          0\n",
      "Avg. F size (L) (mm)      0\n",
      "Avg. F size (R) (mm)      0\n",
      "Endometrium (mm)          0\n",
      "dtype: int64\n",
      "--------AFTER IMPUTATION--------\n",
      "PCOS (Y/N)                0\n",
      " Age (yrs)                0\n",
      "Weight (Kg)               0\n",
      "Height(Cm)                0\n",
      "BMI                       0\n",
      "Blood Group               0\n",
      "Pulse rate(bpm)           0\n",
      "RR (breaths/min)          0\n",
      "Hb(g/dl)                  0\n",
      "Cycle(R/I)                0\n",
      "Cycle length(days)        0\n",
      "Marraige Status (Yrs)     0\n",
      "Pregnant(Y/N)             0\n",
      "No. of aborptions         0\n",
      "  I   beta-HCG(mIU/mL)    0\n",
      "II    beta-HCG(mIU/mL)    0\n",
      "FSH(mIU/mL)               0\n",
      "LH(mIU/mL)                0\n",
      "FSH/LH                    0\n",
      "Hip(inch)                 0\n",
      "Waist(inch)               0\n",
      "Waist:Hip Ratio           0\n",
      "TSH (mIU/L)               0\n",
      "AMH(ng/mL)                0\n",
      "PRL(ng/mL)                0\n",
      "Vit D3 (ng/mL)            0\n",
      "PRG(ng/mL)                0\n",
      "RBS(mg/dl)                0\n",
      "Weight gain(Y/N)          0\n",
      "hair growth(Y/N)          0\n",
      "Skin darkening (Y/N)      0\n",
      "Hair loss(Y/N)            0\n",
      "Pimples(Y/N)              0\n",
      "Fast food (Y/N)           0\n",
      "Reg.Exercise(Y/N)         0\n",
      "BP _Systolic (mmHg)       0\n",
      "BP _Diastolic (mmHg)      0\n",
      "Follicle No. (L)          0\n",
      "Follicle No. (R)          0\n",
      "Avg. F size (L) (mm)      0\n",
      "Avg. F size (R) (mm)      0\n",
      "Endometrium (mm)          0\n",
      "dtype: int64\n"
     ]
    }
   ],
   "source": [
    "#2)DATA PREPROCESSING : (i)IMPUTATION (ii) NORMALIZATION(??why)\n",
    "\n",
    "#(i)IMPUTATION: KNNImputer\n",
    "\n",
    "#check for number of missing values in each column before imputation\n",
    "print(\"--------BEFORE IMPUTATION--------\")\n",
    "print(dataFrame.isnull().sum())\n",
    "\n",
    "#perform imputation\n",
    "from sklearn.impute import KNNImputer\n",
    "imputer = KNNImputer(n_neighbors=5)\n",
    "dataFrame = pd.DataFrame(imputer.fit_transform(dataFrame),columns=dataFrame.columns)\n",
    "\n",
    "#check for number of missing values in each column after imputation\n",
    "print(\"--------AFTER IMPUTATION--------\")\n",
    "print(dataFrame.isnull().sum())\n",
    "\n",
    "#(ii)NORMALIZATION: ??\n",
    "\n",
    "#separating feature vectors from output labels\n",
    "X = dataFrame.drop(['PCOS (Y/N)'],axis=1)\n",
    "y = dataFrame['PCOS (Y/N)']\n",
    "\n",
    "#getting the feature names\n",
    "features = pd.DataFrame(X.columns)    \n",
    "\n",
    "#performing normalization\n",
    "from sklearn.preprocessing import MinMaxScaler\n",
    "X = pd.DataFrame(MinMaxScaler().fit_transform(X))\n",
    "\n",
    "#reattaching the column names to the X dataframe\n",
    "X.columns = features.loc[:,0]"
   ]
  },
  {
   "cell_type": "code",
   "execution_count": 10,
   "metadata": {
    "scrolled": true
   },
   "outputs": [
    {
     "name": "stdout",
     "output_type": "stream",
     "text": [
      "             Feature_Name      Score\n",
      "29   Skin darkening (Y/N)  84.870716\n",
      "28       hair growth(Y/N)  84.854623\n",
      "27       Weight gain(Y/N)  65.554147\n",
      "8              Cycle(R/I)  42.176860\n",
      "32        Fast food (Y/N)  37.462765\n",
      "31           Pimples(Y/N)  22.587803\n",
      "30         Hair loss(Y/N)   8.846546\n",
      "22             AMH(ng/mL)   3.580991\n",
      "33      Reg.Exercise(Y/N)   1.737463\n",
      "24         Vit D3 (ng/mL)   1.575758\n",
      "0               Age (yrs)   1.402764\n",
      "1             Weight (Kg)   1.337848\n",
      "16             LH(mIU/mL)   1.271769\n",
      "3                     BMI   1.123187\n",
      "18              Hip(inch)   0.848799\n",
      "19            Waist(inch)   0.836235\n",
      "10  Marraige Status (Yrs)   0.670866\n",
      "9      Cycle length(days)   0.645862\n",
      "12      No. of aborptions   0.586935\n",
      "15            FSH(mIU/mL)   0.321571\n"
     ]
    }
   ],
   "source": [
    "#3)FEATURE SELECTION:   ??\n",
    "from sklearn.feature_selection import SelectKBest, chi2    #univariate feature selection\n",
    "\n",
    "#instantiating SelectKBest to determine 20 best features\n",
    "selector = SelectKBest(score_func=chi2,k=20)\n",
    "scores = pd.DataFrame(selector.fit(X,y).scores_)\n",
    "\n",
    "#creating a dataframe to list feature names along with scores to find the best ones\n",
    "feature_scores = pd.concat([features,scores],axis=1)\n",
    "feature_scores.columns = ['Feature_Name','Score']\n",
    "\n",
    "#dropping unattainable features(requiring ultrasound) from this list\n",
    "feature_scores = feature_scores.drop([36,37,38],axis=0)\n",
    "\n",
    "#printing best features\n",
    "print(feature_scores.nlargest(20,'Score'))\n",
    "\n",
    "#getting best feature names\n",
    "best_feature_names = feature_scores.nlargest(20,'Score')['Feature_Name'].tolist()\n",
    "#input for later use is to be provided in this order only\n",
    "\n",
    "#altering X so that it contains only best features\n",
    "X = X.loc[:,best_feature_names]"
   ]
  },
  {
   "cell_type": "code",
   "execution_count": 12,
   "metadata": {},
   "outputs": [
    {
     "name": "stdout",
     "output_type": "stream",
     "text": [
      "0.8588957055214724\n",
      "0.8282208588957055\n",
      "0.8159509202453987\n"
     ]
    }
   ],
   "source": [
    "#4)TRAIN MODELS: \n",
    "\n",
    "#splitting the dataset into training and testing datasets\n",
    "import numpy as np\n",
    "from sklearn.model_selection import train_test_split\n",
    "X_train, X_test, y_train, y_test = train_test_split(X,y,train_size=0.7)\n",
    "\n",
    "#(i)Logistic Regression :\n",
    "from sklearn.linear_model import LogisticRegression\n",
    "np.random.seed(1)  #just to make sure random_state of LogisticRegression() constructor works\n",
    "LR = LogisticRegression(random_state=1) #random_state is used to set seed for random number generator so that we get same results across multiple runs\n",
    "LR.fit(X_train,y_train)\n",
    "print(LR.score(X_test,y_test)) #model.score() gives accuracy score(#correct_preds/#all_preds). Calculates predictions for X_test under the hood and compares to y_test\n",
    "\n",
    "#(ii)SVM :\n",
    "from sklearn import svm\n",
    "SVM = svm.SVC(C=20,kernel='linear')\n",
    "SVM.fit(X_train,y_train)\n",
    "print(SVM.score(X_test,y_test))\n",
    "\n",
    "#(iii)Random Forest Classifier :\n",
    "from sklearn.ensemble import RandomForestClassifier\n",
    "RFC = RandomForestClassifier()\n",
    "RFC.fit(X_train,y_train)\n",
    "print(RFC.score(X_test,y_test))"
   ]
  },
  {
   "cell_type": "code",
   "execution_count": 16,
   "metadata": {},
   "outputs": [],
   "source": [
    "#5)SAVING MODEL WITH HIGHEST ACCURACY :\n",
    "\n",
    "#Logistic regression model is saved as it has the highest accuracy\n",
    "import pickle\n",
    "model_filename = \"PCOS_SVM.sav\"\n",
    "pickle.dump(LR, open(model_filename, 'wb'))"
   ]
  },
  {
   "cell_type": "code",
   "execution_count": 17,
   "metadata": {},
   "outputs": [
    {
     "name": "stdout",
     "output_type": "stream",
     "text": [
      "0.8588957055214724\n"
     ]
    }
   ],
   "source": [
    "#6)LOADING THE MODEL FROM DISK : \n",
    "loaded_model = pickle.load(open(\"PCOS_SVM.sav\",'rb'))\n",
    "print(loaded_model.score(X_test, y_test))"
   ]
  },
  {
   "cell_type": "code",
   "execution_count": 19,
   "metadata": {},
   "outputs": [
    {
     "name": "stdout",
     "output_type": "stream",
     "text": [
      "0\n",
      "Skin darkening (Y/N)     0.000000\n",
      "hair growth(Y/N)         0.000000\n",
      "Weight gain(Y/N)         0.000000\n",
      "Cycle(R/I)               0.000000\n",
      "Fast food (Y/N)          1.000000\n",
      "Pimples(Y/N)             0.000000\n",
      "Hair loss(Y/N)           0.000000\n",
      "AMH(ng/mL)               0.254932\n",
      "Reg.Exercise(Y/N)        1.000000\n",
      "Vit D3 (ng/mL)           0.003924\n",
      " Age (yrs)               0.250000\n",
      "Weight (Kg)              0.272727\n",
      "LH(mIU/mL)               0.001095\n",
      "BMI                      0.403371\n",
      "Hip(inch)                0.454545\n",
      "Waist(inch)              0.347826\n",
      "Marraige Status (Yrs)    0.166667\n",
      "Cycle length(days)       0.416667\n",
      "No. of aborptions        0.000000\n",
      "FSH(mIU/mL)              0.000942\n",
      "Name: 444, dtype: float64\n",
      "9.485247% chance of having PCOD.\n"
     ]
    }
   ],
   "source": [
    "#7)PREDICT PROBABILITY FOR NEW INPUT POINT :\n",
    "print(X_test.iloc[0])\n",
    "#creating a new data point (actually take this from user)\n",
    "inp = X_test.iloc[0].tolist()\n",
    "#getting predicted probability for this input point\n",
    "prob_distribution = loaded_model.predict_proba([inp]) #this func takes as argument a list of data points and returns an array where each element is a probability distribution(list of 2 elements) for each point\n",
    "prob_having_PCOD = prob_distribution[0][1] #the second element in each probability dist. gives probability of point belonging to the class 1\n",
    "print(\"%f%% chance of having PCOD.\"%(prob_having_PCOD*100))"
   ]
  },
  {
   "cell_type": "code",
   "execution_count": null,
   "metadata": {},
   "outputs": [],
   "source": []
  }
 ],
 "metadata": {
  "kernelspec": {
   "display_name": "Python 3",
   "language": "python",
   "name": "python3"
  },
  "language_info": {
   "codemirror_mode": {
    "name": "ipython",
    "version": 3
   },
   "file_extension": ".py",
   "mimetype": "text/x-python",
   "name": "python",
   "nbconvert_exporter": "python",
   "pygments_lexer": "ipython3",
   "version": "3.7.11"
  }
 },
 "nbformat": 4,
 "nbformat_minor": 4
}
